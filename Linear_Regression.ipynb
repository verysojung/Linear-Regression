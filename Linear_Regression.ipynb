{
 "cells": [
  {
   "cell_type": "code",
   "execution_count": null,
   "metadata": {},
   "outputs": [
    {
     "name": "stdout",
     "output_type": "stream",
     "text": [
      "295\n"
     ]
    },
    {
     "data": {
      "image/png": "[encoded data removed]",
      "text/plain": [
       "<Figure size 432x288 with 1 Axes>"
      ]
     },
     "metadata": {
      "needs_background": "light"
     },
     "output_type": "display_data"
    }
   ],
   "source": [
    "import csv\n",
    "import matplotlib.pyplot as plt\n",
    "import random\n",
    "f=open('student.csv')\n",
    "data = csv.reader(f)  # -> 데이터 소진 뒤 다시 채워주어야 된다\n",
    "next(data)\n",
    "w_man=0\n",
    "w_woman=0\n",
    "b_man=0\n",
    "b_woman=0\n",
    "students={}\n",
    "for i in range(8,20):\n",
    "    students[(i,0)]=[]\n",
    "    students[(i,1)]=[]\n",
    "num_grade=[]\n",
    "temp_student_x=[]\n",
    "temp_student_y=[]\n",
    "for row in data:\n",
    "   \n",
    "    if '초등학교' in row[9]:\n",
    "        if row[16]!='':\n",
    "            age=7+int(row[11])\n",
    "            gender= 0 if row[13]=='남' else 1\n",
    "            hight=float(row[15])\n",
    "            weight=float(row[16])\n",
    "\n",
    "    if '중학교' in row[9]:\n",
    "        age=13+int(row[11])\n",
    "        gender= 0 if row[13]=='남' else 1\n",
    "        hight=float(row[15])\n",
    "        weight=float(row[16])\n",
    "\n",
    "    if '고등학교' in row[9]:\n",
    "        age=16+int(row[11])\n",
    "        gender= 0 if row[13]=='남' else 1\n",
    "        hight=float(row[15])\n",
    "        weight=float(row[16])\n",
    "    students[age,gender].append([hight,weight])\n",
    "    \n",
    "for i in range(8,19):\n",
    "    num_grade.append(len(students[i,0]))\n",
    "    \n",
    "num=min(num_grade)\n",
    "print(num)\n",
    "for i in range(8,19):\n",
    "    temp_under=random.sample(students[i,0],10)\n",
    "    temp_upper=random.sample(students[i+1,0],10)\n",
    "    for under in temp_under:\n",
    "        temp_student_x.append(i)\n",
    "        temp_student_y.append(under[0])\n",
    "        for upper in temp_upper:\n",
    "            temp_student_x.append(i+1)\n",
    "            temp_student_y.append(upper[0])\n",
    "            w_man+=0.01*(upper[0]-under[0]-w_man)\n",
    "\n",
    "\n",
    "for i in range(8,19):\n",
    "    for under in random.sample(students[i,0],num):\n",
    "#         b_man+=0.01*(under[0]-b_man)\n",
    "        b_man+=0.01*(under[0]-w_man*i-b_man)\n",
    "\n",
    "x=range(8,20)\n",
    "y=[w_man*i+b_man for i in range(8,20)]\n",
    "\n",
    "\n",
    "plt.plot(temp_student_x,temp_student_y,'o') #reulst를 빨간색으로\n",
    "plt.plot(x,y,'r')\n",
    "plt.show()\n",
    "\n",
    "y=input(\"센치를 입력하세요 : \")\n",
    "\n",
    "temp=(float(y)-b_man)/w_man\n",
    "print(y, ' ', w_man,\" \",b_man)\n",
    "print('회귀적 남자의 나이 {} 입니다'.format(temp) )\n"
   ]
  },
  {
   "cell_type": "code",
   "execution_count": null,
   "metadata": {},
   "outputs": [],
   "source": [
    "y=input(\"센치를 입력하세요 : \")\n",
    "\n",
    "temp=(float(y)-b_man)/w_man\n",
    "print(y, ' ', w_man,\" \",b_man)\n",
    "print('회귀적 남자의 나이 {} 입니다'.format(temp) )"
   ]
  },
  {
   "cell_type": "code",
   "execution_count": null,
   "metadata": {},
   "outputs": [
    {
     "data": {
      "image/png": "[encoded data removed]",
      "text/plain": [
       "<Figure size 432x288 with 1 Axes>"
      ]
     },
     "metadata": {
      "needs_background": "light"
     },
     "output_type": "display_data"
    }
   ],
   "source": [
    "import csv\n",
    "import matplotlib.pyplot as plt\n",
    "import random\n",
    "f=open('student.csv')\n",
    "data = csv.reader(f)  # -> 데이터 소진 뒤 다시 채워주어야 된다\n",
    "next(data)\n",
    "w_man=0\n",
    "w_woman=0\n",
    "b_man=0\n",
    "b_woman=0\n",
    "students={i:[] for i in range(5)}\n",
    "standard=[]\n",
    "num_weight=0\n",
    "seperate={i:[] for i in range(5)}\n",
    "temp_student_x=[]\n",
    "temp_student_y=[]\n",
    "\n",
    "for row in data:\n",
    "    if row[16]!='':\n",
    "        if row[13]=='남':\n",
    "            hight=float(row[15])\n",
    "            weight=float(row[16])\n",
    "            temp=weight-weight%5.0\n",
    "            if temp<35:\n",
    "                num_weight=0\n",
    "            elif temp<50:\n",
    "                num_weight=1\n",
    "            elif temp<60:\n",
    "                num_weight=2\n",
    "            elif temp<75:\n",
    "                num_weight=3\n",
    "            else :\n",
    "                num_weight=4\n",
    "            students[num_weight].append([weight,hight])\n",
    "            \n",
    "\n",
    "# 4:30 3:45 2:55 3:70 나머\n",
    "for i in range(4):\n",
    "    temp_under=random.sample(students[i],500)\n",
    "    temp_upper=random.sample(students[i+1],500)\n",
    "    for under in temp_under:\n",
    "        temp_student_x.append(under[0])\n",
    "        temp_student_y.append(under[1])\n",
    "        for upper in temp_upper:\n",
    "            temp_student_x.append(upper[0])\n",
    "            temp_student_y.append(upper[1])\n",
    "            w_man+=0.01*((upper[1]-under[1])/(upper[0]-under[0])-w_man)\n",
    "\n",
    "for i in range(5):\n",
    "    for under in random.sample(students[i],500):\n",
    "#         b_man+=0.01*(under[0]-b_man)\n",
    "        b_man+=0.01*(under[1]-w_man*under[0]-b_man)\n",
    "\n",
    "x=range(14,130)\n",
    "y=[w_man*i+b_man for i in range(14,130)]\n",
    "plt.plot(temp_student_x,temp_student_y,'o') #reulst를 빨간색으로\n",
    "plt.plot(x,y,'r')\n",
    "plt.show()\n",
    "    \n",
    "y=input(\"센치를 입력하세요 : \")\n",
    "\n",
    "temp=(float(y)-b_man)/w_man\n",
    "print(y, ' ', w_man,\" \",b_man)\n",
    "print('회귀적 남자의 나이 {} 입니다'.format(temp) )\n"
   ]
  },
  {
   "cell_type": "code",
   "execution_count": 40,
   "metadata": {},
   "outputs": [
    {
     "name": "stdout",
     "output_type": "stream",
     "text": [
      "range(0, 3)\n"
     ]
    }
   ],
   "source": [
    "print(range(3))"
   ]
  },
  {
   "cell_type": "code",
   "execution_count": 2,
   "metadata": {},
   "outputs": [
    {
     "name": "stdout",
     "output_type": "stream",
     "text": [
      "295\n"
     ]
    },
    {
     "data": {
      "image/png": "[encoded data removed]",
      "text/plain": [
       "<Figure size 432x288 with 1 Axes>"
      ]
     },
     "metadata": {
      "needs_background": "light"
     },
     "output_type": "display_data"
    },
    {
     "name": "stdout",
     "output_type": "stream",
     "text": [
      "센치를 입력하세요 : 160\n",
      "기울기 :  5.331969573918792 , b 값:  76.70832486392544\n",
      "회귀적 160센치 남자의 나이 15 입니다\n"
     ]
    }
   ],
   "source": [
    "import csv\n",
    "import matplotlib.pyplot as plt\n",
    "import random\n",
    "f=open('student.csv')\n",
    "data = csv.reader(f)  # -> 데이터 소진 뒤 다시 채워주어야 된다\n",
    "next(data)\n",
    "w_man=1\n",
    "w_woman=0\n",
    "b_man=0\n",
    "b_woman=0\n",
    "students={}\n",
    "for i in range(8,20):\n",
    "    students[(i,0)]=[]\n",
    "    students[(i,1)]=[]\n",
    "num_grade=[]\n",
    "temp_student_x=[]\n",
    "temp_student_y=[]\n",
    "for row in data:\n",
    "   \n",
    "    if '초등학교' in row[9]:\n",
    "        if row[16]!='':\n",
    "            age=7+int(row[11])\n",
    "            gender= 0 if row[13]=='남' else 1\n",
    "            hight=float(row[15])\n",
    "            weight=float(row[16])\n",
    "\n",
    "    if '중학교' in row[9]:\n",
    "        age=13+int(row[11])\n",
    "        gender= 0 if row[13]=='남' else 1\n",
    "        hight=float(row[15])\n",
    "        weight=float(row[16])\n",
    "\n",
    "    if '고등학교' in row[9]:\n",
    "        age=16+int(row[11])\n",
    "        gender= 0 if row[13]=='남' else 1\n",
    "        hight=float(row[15])\n",
    "        weight=float(row[16])\n",
    "    students[age,gender].append([hight,weight])\n",
    "    \n",
    "for i in range(8,19):\n",
    "    num_grade.append(len(students[i,0]))\n",
    "    \n",
    "num=min(num_grade)\n",
    "print(num)\n",
    "for i in range(500):\n",
    "    temp=random.sample(range(8,20),2)\n",
    "    temp.sort()\n",
    "    under=random.sample(students[temp[0],0],1)\n",
    "    upper=random.sample(students[temp[1],0],1)\n",
    "    temp_student_x.append(temp[0])\n",
    "    temp_student_y.append(under[0][0])\n",
    "    temp_student_x.append(temp[1])\n",
    "    temp_student_y.append(upper[0][0])\n",
    "    w_man+=0.01*((upper[0][0]-under[0][0])/(temp[1]-temp[0])-w_man)\n",
    "    \n",
    "    \n",
    "for i in range(8,19):\n",
    "    for under in random.sample(students[i,0],num):\n",
    "        b_man+=0.01*(under[0]-w_man*i-b_man)\n",
    "    \n",
    "#     b_man+=0.01*(w_man*temp[0]-under[0][0]-b_man)\n",
    "#     b_man+=0.01*(w_man*temp[1]-upper[0][0]-b_man)\n",
    "\n",
    "\n",
    "\n",
    "x=range(8,20)\n",
    "y=[w_man*i+b_man for i in range(8,20)]\n",
    "\n",
    "\n",
    "plt.plot(temp_student_x,temp_student_y,'o') #reulst를 빨간색으로\n",
    "plt.plot(x,y,'r')\n",
    "plt.show()\n",
    "y=input(\"센치를 입력하세요 : \")\n",
    "\n",
    "temp=(float(y)-b_man)/w_man\n",
    "print('기울기 : ', w_man,\", b 값: \",b_man)\n",
    "print('회귀적 {}센치 남자의 나이 {} 입니다'.format(y,int(temp)) )\n"
   ]
  },
  {
   "cell_type": "code",
   "execution_count": 3,
   "metadata": {},
   "outputs": [
    {
     "data": {
      "image/png": "[encoded data removed]",
      "text/plain": [
       "<Figure size 432x288 with 1 Axes>"
      ]
     },
     "metadata": {
      "needs_background": "light"
     },
     "output_type": "display_data"
    },
    {
     "name": "stdout",
     "output_type": "stream",
     "text": [
      "센치를 입력하세요 : 170\n",
      "기울기 :  0.6777363577528247 , b 값:  121.16796948433577\n",
      "회귀적 170센치 남자의 무게 72.05166132384714 입니다\n"
     ]
    }
   ],
   "source": [
    "import csv\n",
    "import matplotlib.pyplot as plt\n",
    "import random\n",
    "f=open('student.csv')\n",
    "data = csv.reader(f)  # -> 데이터 소진 뒤 다시 채워주어야 된다\n",
    "next(data)\n",
    "w_man=0\n",
    "w_woman=0\n",
    "b_man=0\n",
    "b_woman=0\n",
    "students=[]\n",
    "standard=[]\n",
    "num_weight=0\n",
    "seperate={i:[] for i in range(5)}\n",
    "temp_student_x=[]\n",
    "temp_student_y=[]\n",
    "\n",
    "for row in data:\n",
    "    if row[16]!='':\n",
    "        if row[13]=='남':\n",
    "            hight=float(row[15])\n",
    "            weight=float(row[16])\n",
    "            students.append([weight,hight])\n",
    "\n",
    "for i in range(500):\n",
    "    temp=random.sample(range(len(students)),2)\n",
    "    temp.sort()\n",
    "    under=students[temp[0]]\n",
    "    upper=students[temp[1]]\n",
    "    temp_student_x.append(under[0])\n",
    "    temp_student_y.append(under[1])\n",
    "    temp_student_x.append(upper[0])\n",
    "    temp_student_y.append(upper[1])\n",
    "    w_man+=0.01*((upper[1]-under[1])/(upper[0]-under[0]+0.01)-w_man)\n",
    "\n",
    "\n",
    "\n",
    "for i in range(500):\n",
    "    random_num=random.randint(0,len(students))\n",
    "    b_man+=0.01*(students[random_num][1]-w_man*students[random_num][0]-b_man)\n",
    "\n",
    "x=range(14,130)\n",
    "y=[w_man*i+b_man for i in range(14,130)]\n",
    "plt.plot(temp_student_x,temp_student_y,'o') #reulst를 빨간색으로\n",
    "plt.plot(x,y,'r')\n",
    "plt.show()\n",
    "    \n",
    "y=input(\"센치를 입력하세요 : \")\n",
    "\n",
    "temp=(float(y)-b_man)/w_man\n",
    "print('기울기 : ', w_man,\", b 값: \",b_man)\n",
    "print('회귀적 {}센치 남자의 무게 {} 입니다'.format(y,temp) )\n"
   ]
  },
  {
   "cell_type": "code",
   "execution_count": 4,
   "metadata": {},
   "outputs": [
    {
     "data": {
      "text/plain": [
       "1"
      ]
     },
     "execution_count": 4,
     "metadata": {},
     "output_type": "execute_result"
    }
   ],
   "source": [
    "random.randint(0,3)"
   ]
  },
  {
   "cell_type": "code",
   "execution_count": null,
   "metadata": {},
   "outputs": [],
   "source": []
  }
 ],
 "metadata": {
  "kernelspec": {
   "display_name": "Python 3",
   "language": "python",
   "name": "python3"
  },
  "language_info": {
   "codemirror_mode": {
    "name": "ipython",
    "version": 3
   },
   "file_extension": ".py",
   "mimetype": "text/x-python",
   "name": "python",
   "nbconvert_exporter": "python",
   "pygments_lexer": "ipython3",
   "version": "3.8.3"
  }
 },
 "nbformat": 4,
 "nbformat_minor": 4
}
